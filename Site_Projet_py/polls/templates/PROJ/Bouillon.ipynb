{
 "cells": [
  {
   "cell_type": "markdown",
   "id": "621562ba-6bdd-452e-a3f5-e208c0f6e0b5",
   "metadata": {},
   "source": [
    "Code python !!"
   ]
  },
  {
   "cell_type": "markdown",
   "id": "0ee9bc1e-9f73-427b-ac4f-c76ae425d2c4",
   "metadata": {},
   "source": [
    "ETAPE 1:"
   ]
  },
  {
   "cell_type": "code",
   "execution_count": null,
   "id": "b64de395-359e-464f-9511-fd13fdf2d8f2",
   "metadata": {},
   "outputs": [],
   "source": [
    "import pandas as pd\n",
    "\n",
    "import feedparser\n",
    "\n",
    "\n",
    "url = \"https://www.cert.ssi.gouv.fr/avis/feed\"\n",
    "\n",
    "url2 = \"https://www.cert.ssi.gouv.fr/alerte/feed\"\n",
    "\n",
    "\n",
    "rss_feed = feedparser.parse(url2)\n",
    "for entry in rss_feed.entries:\n",
    "    print(\"Titre :\", entry.title)\n",
    "    print(\"Description:\", entry.description)\n",
    "    \n",
    "    print(\"Lien :\", entry.link)\n",
    " \n",
    "    print(\"Date :\", entry.published)\n",
    " "
   ]
  },
  {
   "cell_type": "code",
   "execution_count": null,
   "id": "0461da2a-1657-49e2-91ca-57f1e320b86f",
   "metadata": {},
   "outputs": [],
   "source": [
    "def extraction_fluxRSS():\n",
    "    \"\"\"\n",
    "    Extraction des flux, avec la bibliothèque 'feedparser', avec les avis et alertes,\n",
    "    \"\"\"\n",
    "    url = \"https://www.cert.ssi.gouv.fr/avis/feed\"\n",
    "\n",
    "    url2 = \"https://www.cert.ssi.gouv.fr/alerte/feed\"\n",
    "    rss_feed = feedparser.parse(url)\n",
    "    Type=\"Avis\"\n",
    "    \n",
    "    for entry in rss_feed.entries:\n",
    "        yield entry,Type\n",
    "        rss_feed = feedparser.parse(url2)\n",
    "    Type=\"Alerte\"\n",
    "\n",
    "    for entry in rss_feed.entries:\n",
    "        yield entry,Type\n",
    "        "
   ]
  },
  {
   "cell_type": "code",
   "execution_count": null,
   "id": "96ef71bb-0fa3-4eae-8261-94075cdeca90",
   "metadata": {},
   "outputs": [],
   "source": [
    "import requests\n",
    "\n",
    "\n",
    "def extraction_CVE(entry):\n",
    "    \n",
    "    url = entry.link + \"json/\"\n",
    "    \n",
    "    response = requests.get(url)\n",
    "\n",
    "    data = response.json()\n",
    "    \n",
    "    for elt in data['cves']:\n",
    "        yield elt['name'], elt['url']\n",
    "   "
   ]
  },
  {
   "cell_type": "code",
   "execution_count": 12,
   "id": "4d037cb2-034a-4d54-a293-a64f9e3b31f2",
   "metadata": {},
   "outputs": [],
   "source": [
    " \n",
    "def recuperation_CVE():\n",
    "    \"\"\"\n",
    "    Parcourt les flux RSS et extrait tous les CVE avec leur type (Avis ou Alerte).\n",
    "    Retourne une liste de tuples (CVE, URL, Type).\n",
    "    \"\"\"\n",
    "    cve_liste = []\n",
    "\n",
    "    for entry, Type in extraction_fluxRSS():\n",
    "        for cve_name, cve_url in extraction_CVE(entry):\n",
    "            cve_liste.append((cve_name, cve_url, Type))  # Ajout du CVE avec son type\n",
    "\n",
    "    return cve_liste"
   ]
  },
  {
   "cell_type": "code",
   "execution_count": null,
   "id": "bea70480-cd33-4a31-82a5-c11ff3fa8705",
   "metadata": {},
   "outputs": [],
   "source": []
  },
  {
   "cell_type": "code",
   "execution_count": null,
   "id": "a36903a2-116f-40be-be03-a27bf47b3804",
   "metadata": {},
   "outputs": [],
   "source": []
  }
 ],
 "metadata": {
  "kernelspec": {
   "display_name": "Python 3 (ipykernel)",
   "language": "python",
   "name": "python3"
  },
  "language_info": {
   "codemirror_mode": {
    "name": "ipython",
    "version": 3
   },
   "file_extension": ".py",
   "mimetype": "text/x-python",
   "name": "python",
   "nbconvert_exporter": "python",
   "pygments_lexer": "ipython3",
   "version": "3.12.4"
  }
 },
 "nbformat": 4,
 "nbformat_minor": 5
}
